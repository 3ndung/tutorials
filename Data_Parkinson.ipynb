{
  "nbformat": 4,
  "nbformat_minor": 0,
  "metadata": {
    "colab": {
      "name": "Data_Parkinson.ipynb",
      "version": "0.3.2",
      "provenance": [],
      "include_colab_link": true
    },
    "kernelspec": {
      "name": "python3",
      "display_name": "Python 3"
    }
  },
  "cells": [
    {
      "cell_type": "markdown",
      "metadata": {
        "id": "view-in-github",
        "colab_type": "text"
      },
      "source": [
        "<a href=\"https://colab.research.google.com/github/3ndung/tutorials/blob/master/Data_Parkinson.ipynb\" target=\"_parent\"><img src=\"https://colab.research.google.com/assets/colab-badge.svg\" alt=\"Open In Colab\"/></a>"
      ]
    },
    {
      "metadata": {
        "id": "nsJDFM_YKka3",
        "colab_type": "code",
        "colab": {}
      },
      "cell_type": "code",
      "source": [
        "import pandas as pd\n",
        "import tensorflow as tf\n",
        "from tensorflow import keras\n",
        "from tensorflow.keras import layers"
      ],
      "execution_count": 0,
      "outputs": []
    },
    {
      "metadata": {
        "id": "uJAs1A-NLRAC",
        "colab_type": "text"
      },
      "cell_type": "markdown",
      "source": [
        "# Import Data dan URL manapun"
      ]
    },
    {
      "metadata": {
        "id": "gmj5xCOhLWaA",
        "colab_type": "code",
        "colab": {
          "base_uri": "https://localhost:8080/",
          "height": 51
        },
        "outputId": "d23cd31e-bff7-4d9c-c8a9-7a7d9e3fec6b"
      },
      "cell_type": "code",
      "source": [
        "data_URL = keras.utils.get_file(\"parkinson.data\", \"https://archive.ics.uci.edu/ml/machine-learning-databases/parkinsons/parkinsons.data\")"
      ],
      "execution_count": 3,
      "outputs": [
        {
          "output_type": "stream",
          "text": [
            "Downloading data from https://archive.ics.uci.edu/ml/machine-learning-databases/parkinsons/parkinsons.data\n",
            "40960/40697 [==============================] - 0s 3us/step\n"
          ],
          "name": "stdout"
        }
      ]
    },
    {
      "metadata": {
        "id": "Kuly98n0L7s3",
        "colab_type": "code",
        "outputId": "90b2aedf-3c88-41cc-e627-45b442d83e53",
        "colab": {
          "base_uri": "https://localhost:8080/",
          "height": 34
        }
      },
      "cell_type": "code",
      "source": [
        "cd /root/.keras/datasets/"
      ],
      "execution_count": 4,
      "outputs": [
        {
          "output_type": "stream",
          "text": [
            "/root/.keras/datasets\n"
          ],
          "name": "stdout"
        }
      ]
    },
    {
      "metadata": {
        "id": "PsYpGx4fMQfU",
        "colab_type": "code",
        "outputId": "8827a32a-304a-43a0-b1ee-4caa7a739afc",
        "colab": {
          "base_uri": "https://localhost:8080/",
          "height": 34
        }
      },
      "cell_type": "code",
      "source": [
        "ls"
      ],
      "execution_count": 5,
      "outputs": [
        {
          "output_type": "stream",
          "text": [
            "parkinson.data\n"
          ],
          "name": "stdout"
        }
      ]
    },
    {
      "metadata": {
        "id": "AcjhxrR-MgOJ",
        "colab_type": "code",
        "outputId": "5370751f-4ce7-4858-fa98-b8f5958042a4",
        "colab": {
          "base_uri": "https://localhost:8080/",
          "height": 191
        }
      },
      "cell_type": "code",
      "source": [
        "\n",
        "\n",
        "data_URL1 = pd.read_csv(\"/root/.keras/datasets/parkinson.data\")\n",
        "data_URL1.head(3)"
      ],
      "execution_count": 6,
      "outputs": [
        {
          "output_type": "execute_result",
          "data": {
            "text/html": [
              "<div>\n",
              "<style scoped>\n",
              "    .dataframe tbody tr th:only-of-type {\n",
              "        vertical-align: middle;\n",
              "    }\n",
              "\n",
              "    .dataframe tbody tr th {\n",
              "        vertical-align: top;\n",
              "    }\n",
              "\n",
              "    .dataframe thead th {\n",
              "        text-align: right;\n",
              "    }\n",
              "</style>\n",
              "<table border=\"1\" class=\"dataframe\">\n",
              "  <thead>\n",
              "    <tr style=\"text-align: right;\">\n",
              "      <th></th>\n",
              "      <th>name</th>\n",
              "      <th>MDVP:Fo(Hz)</th>\n",
              "      <th>MDVP:Fhi(Hz)</th>\n",
              "      <th>MDVP:Flo(Hz)</th>\n",
              "      <th>MDVP:Jitter(%)</th>\n",
              "      <th>MDVP:Jitter(Abs)</th>\n",
              "      <th>MDVP:RAP</th>\n",
              "      <th>MDVP:PPQ</th>\n",
              "      <th>Jitter:DDP</th>\n",
              "      <th>MDVP:Shimmer</th>\n",
              "      <th>...</th>\n",
              "      <th>Shimmer:DDA</th>\n",
              "      <th>NHR</th>\n",
              "      <th>HNR</th>\n",
              "      <th>status</th>\n",
              "      <th>RPDE</th>\n",
              "      <th>DFA</th>\n",
              "      <th>spread1</th>\n",
              "      <th>spread2</th>\n",
              "      <th>D2</th>\n",
              "      <th>PPE</th>\n",
              "    </tr>\n",
              "  </thead>\n",
              "  <tbody>\n",
              "    <tr>\n",
              "      <th>0</th>\n",
              "      <td>phon_R01_S01_1</td>\n",
              "      <td>119.992</td>\n",
              "      <td>157.302</td>\n",
              "      <td>74.997</td>\n",
              "      <td>0.00784</td>\n",
              "      <td>0.00007</td>\n",
              "      <td>0.00370</td>\n",
              "      <td>0.00554</td>\n",
              "      <td>0.01109</td>\n",
              "      <td>0.04374</td>\n",
              "      <td>...</td>\n",
              "      <td>0.06545</td>\n",
              "      <td>0.02211</td>\n",
              "      <td>21.033</td>\n",
              "      <td>1</td>\n",
              "      <td>0.414783</td>\n",
              "      <td>0.815285</td>\n",
              "      <td>-4.813031</td>\n",
              "      <td>0.266482</td>\n",
              "      <td>2.301442</td>\n",
              "      <td>0.284654</td>\n",
              "    </tr>\n",
              "    <tr>\n",
              "      <th>1</th>\n",
              "      <td>phon_R01_S01_2</td>\n",
              "      <td>122.400</td>\n",
              "      <td>148.650</td>\n",
              "      <td>113.819</td>\n",
              "      <td>0.00968</td>\n",
              "      <td>0.00008</td>\n",
              "      <td>0.00465</td>\n",
              "      <td>0.00696</td>\n",
              "      <td>0.01394</td>\n",
              "      <td>0.06134</td>\n",
              "      <td>...</td>\n",
              "      <td>0.09403</td>\n",
              "      <td>0.01929</td>\n",
              "      <td>19.085</td>\n",
              "      <td>1</td>\n",
              "      <td>0.458359</td>\n",
              "      <td>0.819521</td>\n",
              "      <td>-4.075192</td>\n",
              "      <td>0.335590</td>\n",
              "      <td>2.486855</td>\n",
              "      <td>0.368674</td>\n",
              "    </tr>\n",
              "    <tr>\n",
              "      <th>2</th>\n",
              "      <td>phon_R01_S01_3</td>\n",
              "      <td>116.682</td>\n",
              "      <td>131.111</td>\n",
              "      <td>111.555</td>\n",
              "      <td>0.01050</td>\n",
              "      <td>0.00009</td>\n",
              "      <td>0.00544</td>\n",
              "      <td>0.00781</td>\n",
              "      <td>0.01633</td>\n",
              "      <td>0.05233</td>\n",
              "      <td>...</td>\n",
              "      <td>0.08270</td>\n",
              "      <td>0.01309</td>\n",
              "      <td>20.651</td>\n",
              "      <td>1</td>\n",
              "      <td>0.429895</td>\n",
              "      <td>0.825288</td>\n",
              "      <td>-4.443179</td>\n",
              "      <td>0.311173</td>\n",
              "      <td>2.342259</td>\n",
              "      <td>0.332634</td>\n",
              "    </tr>\n",
              "  </tbody>\n",
              "</table>\n",
              "<p>3 rows × 24 columns</p>\n",
              "</div>"
            ],
            "text/plain": [
              "             name  MDVP:Fo(Hz)  MDVP:Fhi(Hz)  MDVP:Flo(Hz)  MDVP:Jitter(%)  \\\n",
              "0  phon_R01_S01_1      119.992       157.302        74.997         0.00784   \n",
              "1  phon_R01_S01_2      122.400       148.650       113.819         0.00968   \n",
              "2  phon_R01_S01_3      116.682       131.111       111.555         0.01050   \n",
              "\n",
              "   MDVP:Jitter(Abs)  MDVP:RAP  MDVP:PPQ  Jitter:DDP  MDVP:Shimmer    ...     \\\n",
              "0           0.00007   0.00370   0.00554     0.01109       0.04374    ...      \n",
              "1           0.00008   0.00465   0.00696     0.01394       0.06134    ...      \n",
              "2           0.00009   0.00544   0.00781     0.01633       0.05233    ...      \n",
              "\n",
              "   Shimmer:DDA      NHR     HNR  status      RPDE       DFA   spread1  \\\n",
              "0      0.06545  0.02211  21.033       1  0.414783  0.815285 -4.813031   \n",
              "1      0.09403  0.01929  19.085       1  0.458359  0.819521 -4.075192   \n",
              "2      0.08270  0.01309  20.651       1  0.429895  0.825288 -4.443179   \n",
              "\n",
              "    spread2        D2       PPE  \n",
              "0  0.266482  2.301442  0.284654  \n",
              "1  0.335590  2.486855  0.368674  \n",
              "2  0.311173  2.342259  0.332634  \n",
              "\n",
              "[3 rows x 24 columns]"
            ]
          },
          "metadata": {
            "tags": []
          },
          "execution_count": 6
        }
      ]
    },
    {
      "metadata": {
        "id": "KWLLsgHyMyGx",
        "colab_type": "code",
        "outputId": "ee6698d3-3191-4974-aea3-d1ac7b303baf",
        "colab": {
          "base_uri": "https://localhost:8080/",
          "height": 119
        }
      },
      "cell_type": "code",
      "source": [
        "data_URL1.columns"
      ],
      "execution_count": 7,
      "outputs": [
        {
          "output_type": "execute_result",
          "data": {
            "text/plain": [
              "Index(['name', 'MDVP:Fo(Hz)', 'MDVP:Fhi(Hz)', 'MDVP:Flo(Hz)', 'MDVP:Jitter(%)',\n",
              "       'MDVP:Jitter(Abs)', 'MDVP:RAP', 'MDVP:PPQ', 'Jitter:DDP',\n",
              "       'MDVP:Shimmer', 'MDVP:Shimmer(dB)', 'Shimmer:APQ3', 'Shimmer:APQ5',\n",
              "       'MDVP:APQ', 'Shimmer:DDA', 'NHR', 'HNR', 'status', 'RPDE', 'DFA',\n",
              "       'spread1', 'spread2', 'D2', 'PPE'],\n",
              "      dtype='object')"
            ]
          },
          "metadata": {
            "tags": []
          },
          "execution_count": 7
        }
      ]
    },
    {
      "metadata": {
        "id": "P8fQQAsBNPQN",
        "colab_type": "text"
      },
      "cell_type": "markdown",
      "source": [
        "# **Matrix column entries (attributes):**\n",
        "\n",
        "name - ASCII subject name and recording number\n",
        "\n",
        "1. MDVP:Fo(Hz) - Average vocal fundamental frequency\n",
        "2. MDVP:Fhi(Hz) - Maximum vocal fundamental frequency\n",
        "3. MDVP:Flo(Hz) - Minimum vocal fundamental frequency\n",
        "4. MDVP:Jitter(%),\n",
        "5. MDVP:Jitter(Abs),\n",
        "6. MDVP:RAP,\n",
        "7. MDVP:PPQ,\n",
        "8. Jitter:DDP\n",
        "\n",
        "Several \n",
        "measures of variation in fundamental frequency\n",
        "9. MDVP:Shimmer,\n",
        "10. MDVP:Shimmer(dB),\n",
        "11. Shimmer:APQ3,\n",
        "12. Shimmer:APQ5,\n",
        "13. MDVP:APQ,\n",
        "14. Shimmer:DDA\n",
        "\n",
        "Several measures of variation in amplitude\n",
        "\n",
        "15. NHR,\n",
        "16. HNR \n",
        "\n",
        "Two measures of ratio of noise to tonal components in the voice\n",
        "17. status\n",
        "\n",
        "Health status of the subject (one) - Parkinson's, (zero) - healthy\n",
        "18. RPDE,             D2 - Two nonlinear dynamical complexity measures\n",
        "19. DFA                Signal fractal scaling exponent\n",
        "20. spread1,\n",
        "21. spread2,\n",
        "22. PPE                Three nonlinear measures of fundamental frequency variation "
      ]
    },
    {
      "metadata": {
        "id": "-dbXRuH_ctpM",
        "colab_type": "text"
      },
      "cell_type": "markdown",
      "source": [
        ""
      ]
    },
    {
      "metadata": {
        "id": "AnE47wtoPWyd",
        "colab_type": "code",
        "colab": {}
      },
      "cell_type": "code",
      "source": [
        "data_URL1 = data_URL1.drop('name',axis=1)"
      ],
      "execution_count": 0,
      "outputs": []
    },
    {
      "metadata": {
        "id": "b6_2PIUpQ8dT",
        "colab_type": "code",
        "outputId": "01118b5b-8f0d-4dc4-cbde-edf8cfb0e2c0",
        "colab": {
          "base_uri": "https://localhost:8080/",
          "height": 129
        }
      },
      "cell_type": "code",
      "source": [
        "data_URL1.head(1)"
      ],
      "execution_count": 9,
      "outputs": [
        {
          "output_type": "execute_result",
          "data": {
            "text/html": [
              "<div>\n",
              "<style scoped>\n",
              "    .dataframe tbody tr th:only-of-type {\n",
              "        vertical-align: middle;\n",
              "    }\n",
              "\n",
              "    .dataframe tbody tr th {\n",
              "        vertical-align: top;\n",
              "    }\n",
              "\n",
              "    .dataframe thead th {\n",
              "        text-align: right;\n",
              "    }\n",
              "</style>\n",
              "<table border=\"1\" class=\"dataframe\">\n",
              "  <thead>\n",
              "    <tr style=\"text-align: right;\">\n",
              "      <th></th>\n",
              "      <th>MDVP:Fo(Hz)</th>\n",
              "      <th>MDVP:Fhi(Hz)</th>\n",
              "      <th>MDVP:Flo(Hz)</th>\n",
              "      <th>MDVP:Jitter(%)</th>\n",
              "      <th>MDVP:Jitter(Abs)</th>\n",
              "      <th>MDVP:RAP</th>\n",
              "      <th>MDVP:PPQ</th>\n",
              "      <th>Jitter:DDP</th>\n",
              "      <th>MDVP:Shimmer</th>\n",
              "      <th>MDVP:Shimmer(dB)</th>\n",
              "      <th>...</th>\n",
              "      <th>Shimmer:DDA</th>\n",
              "      <th>NHR</th>\n",
              "      <th>HNR</th>\n",
              "      <th>status</th>\n",
              "      <th>RPDE</th>\n",
              "      <th>DFA</th>\n",
              "      <th>spread1</th>\n",
              "      <th>spread2</th>\n",
              "      <th>D2</th>\n",
              "      <th>PPE</th>\n",
              "    </tr>\n",
              "  </thead>\n",
              "  <tbody>\n",
              "    <tr>\n",
              "      <th>0</th>\n",
              "      <td>119.992</td>\n",
              "      <td>157.302</td>\n",
              "      <td>74.997</td>\n",
              "      <td>0.00784</td>\n",
              "      <td>0.00007</td>\n",
              "      <td>0.0037</td>\n",
              "      <td>0.00554</td>\n",
              "      <td>0.01109</td>\n",
              "      <td>0.04374</td>\n",
              "      <td>0.426</td>\n",
              "      <td>...</td>\n",
              "      <td>0.06545</td>\n",
              "      <td>0.02211</td>\n",
              "      <td>21.033</td>\n",
              "      <td>1</td>\n",
              "      <td>0.414783</td>\n",
              "      <td>0.815285</td>\n",
              "      <td>-4.813031</td>\n",
              "      <td>0.266482</td>\n",
              "      <td>2.301442</td>\n",
              "      <td>0.284654</td>\n",
              "    </tr>\n",
              "  </tbody>\n",
              "</table>\n",
              "<p>1 rows × 23 columns</p>\n",
              "</div>"
            ],
            "text/plain": [
              "   MDVP:Fo(Hz)  MDVP:Fhi(Hz)  MDVP:Flo(Hz)  MDVP:Jitter(%)  MDVP:Jitter(Abs)  \\\n",
              "0      119.992       157.302        74.997         0.00784           0.00007   \n",
              "\n",
              "   MDVP:RAP  MDVP:PPQ  Jitter:DDP  MDVP:Shimmer  MDVP:Shimmer(dB)    ...     \\\n",
              "0    0.0037   0.00554     0.01109       0.04374             0.426    ...      \n",
              "\n",
              "   Shimmer:DDA      NHR     HNR  status      RPDE       DFA   spread1  \\\n",
              "0      0.06545  0.02211  21.033       1  0.414783  0.815285 -4.813031   \n",
              "\n",
              "    spread2        D2       PPE  \n",
              "0  0.266482  2.301442  0.284654  \n",
              "\n",
              "[1 rows x 23 columns]"
            ]
          },
          "metadata": {
            "tags": []
          },
          "execution_count": 9
        }
      ]
    },
    {
      "metadata": {
        "id": "5RRUySuST8NC",
        "colab_type": "text"
      },
      "cell_type": "markdown",
      "source": [
        "# Scaling dari 0 ~ 1"
      ]
    },
    {
      "metadata": {
        "id": "54PQgDbQRjRi",
        "colab_type": "code",
        "colab": {}
      },
      "cell_type": "code",
      "source": [
        "from sklearn.preprocessing import MinMaxScaler\n",
        "\n",
        "scaler = MinMaxScaler(feature_range=(0,1))"
      ],
      "execution_count": 0,
      "outputs": []
    },
    {
      "metadata": {
        "id": "OGZ69kOWUbOa",
        "colab_type": "code",
        "colab": {}
      },
      "cell_type": "code",
      "source": [
        "train_dataset = data_URL1.sample(frac=0.8,random_state=0)\n",
        "test_dataset = data_URL1.drop(train_dataset.index)"
      ],
      "execution_count": 0,
      "outputs": []
    },
    {
      "metadata": {
        "id": "rTPCDBmoW82P",
        "colab_type": "code",
        "outputId": "b3e412bf-6dae-44ba-81aa-740897537d44",
        "colab": {
          "base_uri": "https://localhost:8080/",
          "height": 160
        }
      },
      "cell_type": "code",
      "source": [
        "train_dataset.head(2)"
      ],
      "execution_count": 19,
      "outputs": [
        {
          "output_type": "execute_result",
          "data": {
            "text/html": [
              "<div>\n",
              "<style scoped>\n",
              "    .dataframe tbody tr th:only-of-type {\n",
              "        vertical-align: middle;\n",
              "    }\n",
              "\n",
              "    .dataframe tbody tr th {\n",
              "        vertical-align: top;\n",
              "    }\n",
              "\n",
              "    .dataframe thead th {\n",
              "        text-align: right;\n",
              "    }\n",
              "</style>\n",
              "<table border=\"1\" class=\"dataframe\">\n",
              "  <thead>\n",
              "    <tr style=\"text-align: right;\">\n",
              "      <th></th>\n",
              "      <th>MDVP:Fo(Hz)</th>\n",
              "      <th>MDVP:Fhi(Hz)</th>\n",
              "      <th>MDVP:Flo(Hz)</th>\n",
              "      <th>MDVP:Jitter(%)</th>\n",
              "      <th>MDVP:Jitter(Abs)</th>\n",
              "      <th>MDVP:RAP</th>\n",
              "      <th>MDVP:PPQ</th>\n",
              "      <th>Jitter:DDP</th>\n",
              "      <th>MDVP:Shimmer</th>\n",
              "      <th>MDVP:Shimmer(dB)</th>\n",
              "      <th>...</th>\n",
              "      <th>Shimmer:DDA</th>\n",
              "      <th>NHR</th>\n",
              "      <th>HNR</th>\n",
              "      <th>status</th>\n",
              "      <th>RPDE</th>\n",
              "      <th>DFA</th>\n",
              "      <th>spread1</th>\n",
              "      <th>spread2</th>\n",
              "      <th>D2</th>\n",
              "      <th>PPE</th>\n",
              "    </tr>\n",
              "  </thead>\n",
              "  <tbody>\n",
              "    <tr>\n",
              "      <th>83</th>\n",
              "      <td>98.804</td>\n",
              "      <td>102.305</td>\n",
              "      <td>87.804</td>\n",
              "      <td>0.00432</td>\n",
              "      <td>0.00004</td>\n",
              "      <td>0.00247</td>\n",
              "      <td>0.00258</td>\n",
              "      <td>0.00742</td>\n",
              "      <td>0.02223</td>\n",
              "      <td>0.202</td>\n",
              "      <td>...</td>\n",
              "      <td>0.03831</td>\n",
              "      <td>0.00882</td>\n",
              "      <td>22.244</td>\n",
              "      <td>1</td>\n",
              "      <td>0.576644</td>\n",
              "      <td>0.772416</td>\n",
              "      <td>-6.025367</td>\n",
              "      <td>0.078202</td>\n",
              "      <td>2.053601</td>\n",
              "      <td>0.177275</td>\n",
              "    </tr>\n",
              "    <tr>\n",
              "      <th>12</th>\n",
              "      <td>136.926</td>\n",
              "      <td>159.866</td>\n",
              "      <td>131.276</td>\n",
              "      <td>0.00293</td>\n",
              "      <td>0.00002</td>\n",
              "      <td>0.00118</td>\n",
              "      <td>0.00153</td>\n",
              "      <td>0.00355</td>\n",
              "      <td>0.01259</td>\n",
              "      <td>0.112</td>\n",
              "      <td>...</td>\n",
              "      <td>0.01968</td>\n",
              "      <td>0.00581</td>\n",
              "      <td>25.703</td>\n",
              "      <td>1</td>\n",
              "      <td>0.460600</td>\n",
              "      <td>0.646846</td>\n",
              "      <td>-6.547148</td>\n",
              "      <td>0.152813</td>\n",
              "      <td>2.041277</td>\n",
              "      <td>0.138512</td>\n",
              "    </tr>\n",
              "  </tbody>\n",
              "</table>\n",
              "<p>2 rows × 23 columns</p>\n",
              "</div>"
            ],
            "text/plain": [
              "    MDVP:Fo(Hz)  MDVP:Fhi(Hz)  MDVP:Flo(Hz)  MDVP:Jitter(%)  MDVP:Jitter(Abs)  \\\n",
              "83       98.804       102.305        87.804         0.00432           0.00004   \n",
              "12      136.926       159.866       131.276         0.00293           0.00002   \n",
              "\n",
              "    MDVP:RAP  MDVP:PPQ  Jitter:DDP  MDVP:Shimmer  MDVP:Shimmer(dB)    ...     \\\n",
              "83   0.00247   0.00258     0.00742       0.02223             0.202    ...      \n",
              "12   0.00118   0.00153     0.00355       0.01259             0.112    ...      \n",
              "\n",
              "    Shimmer:DDA      NHR     HNR  status      RPDE       DFA   spread1  \\\n",
              "83      0.03831  0.00882  22.244       1  0.576644  0.772416 -6.025367   \n",
              "12      0.01968  0.00581  25.703       1  0.460600  0.646846 -6.547148   \n",
              "\n",
              "     spread2        D2       PPE  \n",
              "83  0.078202  2.053601  0.177275  \n",
              "12  0.152813  2.041277  0.138512  \n",
              "\n",
              "[2 rows x 23 columns]"
            ]
          },
          "metadata": {
            "tags": []
          },
          "execution_count": 19
        }
      ]
    },
    {
      "metadata": {
        "id": "sOBzImE4nKtc",
        "colab_type": "code",
        "colab": {
          "base_uri": "https://localhost:8080/",
          "height": 51
        },
        "outputId": "f558f339-5c8c-4eab-ebae-afc40d90c9c1"
      },
      "cell_type": "code",
      "source": [
        "print(\"Ini adalah size dari train_dataset >>> {}\".format(train_dataset.size))\n",
        "print(\"Ini adalah shape dari train_dataset >>> {}\".format(train_dataset.shape))"
      ],
      "execution_count": 17,
      "outputs": [
        {
          "output_type": "stream",
          "text": [
            "Ini adalah size dari train_dataset >>> 3588\n",
            "Ini adalah shape dari train_dataset >>> (156, 23)\n"
          ],
          "name": "stdout"
        }
      ]
    },
    {
      "metadata": {
        "id": "XuyK-OsVXB7q",
        "colab_type": "code",
        "outputId": "2d7a0894-e66e-4002-f184-20b1241013e6",
        "colab": {
          "base_uri": "https://localhost:8080/",
          "height": 160
        }
      },
      "cell_type": "code",
      "source": [
        "test_dataset.head(2)"
      ],
      "execution_count": 21,
      "outputs": [
        {
          "output_type": "execute_result",
          "data": {
            "text/html": [
              "<div>\n",
              "<style scoped>\n",
              "    .dataframe tbody tr th:only-of-type {\n",
              "        vertical-align: middle;\n",
              "    }\n",
              "\n",
              "    .dataframe tbody tr th {\n",
              "        vertical-align: top;\n",
              "    }\n",
              "\n",
              "    .dataframe thead th {\n",
              "        text-align: right;\n",
              "    }\n",
              "</style>\n",
              "<table border=\"1\" class=\"dataframe\">\n",
              "  <thead>\n",
              "    <tr style=\"text-align: right;\">\n",
              "      <th></th>\n",
              "      <th>MDVP:Fo(Hz)</th>\n",
              "      <th>MDVP:Fhi(Hz)</th>\n",
              "      <th>MDVP:Flo(Hz)</th>\n",
              "      <th>MDVP:Jitter(%)</th>\n",
              "      <th>MDVP:Jitter(Abs)</th>\n",
              "      <th>MDVP:RAP</th>\n",
              "      <th>MDVP:PPQ</th>\n",
              "      <th>Jitter:DDP</th>\n",
              "      <th>MDVP:Shimmer</th>\n",
              "      <th>MDVP:Shimmer(dB)</th>\n",
              "      <th>...</th>\n",
              "      <th>Shimmer:DDA</th>\n",
              "      <th>NHR</th>\n",
              "      <th>HNR</th>\n",
              "      <th>status</th>\n",
              "      <th>RPDE</th>\n",
              "      <th>DFA</th>\n",
              "      <th>spread1</th>\n",
              "      <th>spread2</th>\n",
              "      <th>D2</th>\n",
              "      <th>PPE</th>\n",
              "    </tr>\n",
              "  </thead>\n",
              "  <tbody>\n",
              "    <tr>\n",
              "      <th>9</th>\n",
              "      <td>95.056</td>\n",
              "      <td>120.103</td>\n",
              "      <td>91.226</td>\n",
              "      <td>0.00532</td>\n",
              "      <td>0.00006</td>\n",
              "      <td>0.00268</td>\n",
              "      <td>0.00332</td>\n",
              "      <td>0.00803</td>\n",
              "      <td>0.02838</td>\n",
              "      <td>0.255</td>\n",
              "      <td>...</td>\n",
              "      <td>0.04324</td>\n",
              "      <td>0.01022</td>\n",
              "      <td>21.862</td>\n",
              "      <td>1</td>\n",
              "      <td>0.547037</td>\n",
              "      <td>0.798463</td>\n",
              "      <td>-5.011879</td>\n",
              "      <td>0.325996</td>\n",
              "      <td>2.432792</td>\n",
              "      <td>0.271362</td>\n",
              "    </tr>\n",
              "    <tr>\n",
              "      <th>21</th>\n",
              "      <td>153.880</td>\n",
              "      <td>172.860</td>\n",
              "      <td>78.128</td>\n",
              "      <td>0.00480</td>\n",
              "      <td>0.00003</td>\n",
              "      <td>0.00232</td>\n",
              "      <td>0.00267</td>\n",
              "      <td>0.00696</td>\n",
              "      <td>0.04137</td>\n",
              "      <td>0.370</td>\n",
              "      <td>...</td>\n",
              "      <td>0.06062</td>\n",
              "      <td>0.01849</td>\n",
              "      <td>19.493</td>\n",
              "      <td>1</td>\n",
              "      <td>0.629017</td>\n",
              "      <td>0.698951</td>\n",
              "      <td>-5.186960</td>\n",
              "      <td>0.237622</td>\n",
              "      <td>2.557536</td>\n",
              "      <td>0.259765</td>\n",
              "    </tr>\n",
              "  </tbody>\n",
              "</table>\n",
              "<p>2 rows × 23 columns</p>\n",
              "</div>"
            ],
            "text/plain": [
              "    MDVP:Fo(Hz)  MDVP:Fhi(Hz)  MDVP:Flo(Hz)  MDVP:Jitter(%)  MDVP:Jitter(Abs)  \\\n",
              "9        95.056       120.103        91.226         0.00532           0.00006   \n",
              "21      153.880       172.860        78.128         0.00480           0.00003   \n",
              "\n",
              "    MDVP:RAP  MDVP:PPQ  Jitter:DDP  MDVP:Shimmer  MDVP:Shimmer(dB)    ...     \\\n",
              "9    0.00268   0.00332     0.00803       0.02838             0.255    ...      \n",
              "21   0.00232   0.00267     0.00696       0.04137             0.370    ...      \n",
              "\n",
              "    Shimmer:DDA      NHR     HNR  status      RPDE       DFA   spread1  \\\n",
              "9       0.04324  0.01022  21.862       1  0.547037  0.798463 -5.011879   \n",
              "21      0.06062  0.01849  19.493       1  0.629017  0.698951 -5.186960   \n",
              "\n",
              "     spread2        D2       PPE  \n",
              "9   0.325996  2.432792  0.271362  \n",
              "21  0.237622  2.557536  0.259765  \n",
              "\n",
              "[2 rows x 23 columns]"
            ]
          },
          "metadata": {
            "tags": []
          },
          "execution_count": 21
        }
      ]
    },
    {
      "metadata": {
        "id": "Gow7dXW8n4Qf",
        "colab_type": "code",
        "colab": {
          "base_uri": "https://localhost:8080/",
          "height": 51
        },
        "outputId": "d72fe430-57c7-42cf-a663-dfff97f49701"
      },
      "cell_type": "code",
      "source": [
        "print(\"Ini adalah size dari test_dataset >>> {}\".format(test_dataset.size))\n",
        "print(\"Ini adalah shape dari test_dataset >>> {}\".format(test_dataset.shape))"
      ],
      "execution_count": 22,
      "outputs": [
        {
          "output_type": "stream",
          "text": [
            "Ini adalah size dari test_dataset >>> 897\n",
            "Ini adalah shape dari test_dataset >>> (39, 23)\n"
          ],
          "name": "stdout"
        }
      ]
    },
    {
      "metadata": {
        "id": "FpW5amDhXPBW",
        "colab_type": "text"
      },
      "cell_type": "markdown",
      "source": [
        "**Karena data set dan training belum kita normalisasikan berikutnya kita akan menormalisasikan dengan scaling**"
      ]
    },
    {
      "metadata": {
        "id": "yZB08OPcXaqn",
        "colab_type": "code",
        "outputId": "65c6f510-8269-408f-ef5d-125f1a633da7",
        "colab": {
          "base_uri": "https://localhost:8080/",
          "height": 51
        }
      },
      "cell_type": "code",
      "source": [
        "train_dataset_2 = scaler.fit_transform(train_dataset)\n",
        "test_dataset_2 = scaler.transform(test_dataset)"
      ],
      "execution_count": 23,
      "outputs": [
        {
          "output_type": "stream",
          "text": [
            "/usr/local/lib/python3.6/dist-packages/sklearn/preprocessing/data.py:323: DataConversionWarning: Data with input dtype int64, float64 were all converted to float64 by MinMaxScaler.\n",
            "  return self.partial_fit(X, y)\n"
          ],
          "name": "stderr"
        }
      ]
    },
    {
      "metadata": {
        "id": "d3H_eOhVaDD0",
        "colab_type": "code",
        "outputId": "f42fc5cc-dbb3-4dc2-9763-e504fac3ad69",
        "colab": {
          "base_uri": "https://localhost:8080/",
          "height": 34
        }
      },
      "cell_type": "code",
      "source": [
        "train_dataset_2.shape"
      ],
      "execution_count": 24,
      "outputs": [
        {
          "output_type": "execute_result",
          "data": {
            "text/plain": [
              "(156, 23)"
            ]
          },
          "metadata": {
            "tags": []
          },
          "execution_count": 24
        }
      ]
    },
    {
      "metadata": {
        "id": "zo-z691HXxdM",
        "colab_type": "code",
        "outputId": "7ca25a99-653d-4957-f1a8-f57da612f15d",
        "colab": {
          "base_uri": "https://localhost:8080/",
          "height": 34
        }
      },
      "cell_type": "code",
      "source": [
        "#Nilai yang nantinya akan kita adjust untuk prediksi \n",
        "#print(\" Nilai multiplying by {:.10f} and adding {:.6f}\".format(scaler.scale_[0], scaler.min_[0]))\n",
        "#print(\" Nilai multiplying by {:.10f} and adding {:.6f}\".format(scaler.scale_[8], scaler.min_[8]))\n",
        "print(\" Nilai multiplying by {:.10f} and adding {:.6f}\".format(scaler.scale_[22], scaler.min_[22]))"
      ],
      "execution_count": 25,
      "outputs": [
        {
          "output_type": "stream",
          "text": [
            " Nilai multiplying by 2.4213426829 and adding -0.107844\n"
          ],
          "name": "stdout"
        }
      ]
    },
    {
      "metadata": {
        "id": "NsvtfAlbamSa",
        "colab_type": "code",
        "colab": {}
      },
      "cell_type": "code",
      "source": [
        "training_data = pd.DataFrame(train_dataset_2, columns=train_dataset.columns.values)\n",
        "test_data = pd.DataFrame(test_dataset_2, columns=test_dataset.columns.values)\n",
        "\n",
        "#save into CSV\n",
        "\n",
        "training_data.to_csv(\"training.csv\", index=False)\n",
        "test_data.to_csv(\"test.csv\", index=False)"
      ],
      "execution_count": 0,
      "outputs": []
    },
    {
      "metadata": {
        "id": "jUkCGw_ebKJT",
        "colab_type": "code",
        "outputId": "39236f8d-4867-402b-e18e-c24d846505b0",
        "colab": {
          "base_uri": "https://localhost:8080/",
          "height": 34
        }
      },
      "cell_type": "code",
      "source": [
        "ls"
      ],
      "execution_count": 27,
      "outputs": [
        {
          "output_type": "stream",
          "text": [
            "parkinson.data  test.csv  training.csv\n"
          ],
          "name": "stdout"
        }
      ]
    },
    {
      "metadata": {
        "id": "iBLhKnUookUS",
        "colab_type": "code",
        "colab": {
          "base_uri": "https://localhost:8080/",
          "height": 34
        },
        "outputId": "a49c3770-1080-4551-a93d-e0b0c58882a8"
      },
      "cell_type": "code",
      "source": [
        "pwd"
      ],
      "execution_count": 28,
      "outputs": [
        {
          "output_type": "execute_result",
          "data": {
            "text/plain": [
              "'/root/.keras/datasets'"
            ]
          },
          "metadata": {
            "tags": []
          },
          "execution_count": 28
        }
      ]
    },
    {
      "metadata": {
        "id": "92bS_9GtbmEh",
        "colab_type": "code",
        "outputId": "9ea9d353-daad-4a6e-a4b5-d554da1d26c0",
        "colab": {
          "base_uri": "https://localhost:8080/",
          "height": 160
        }
      },
      "cell_type": "code",
      "source": [
        "td = pd.read_csv(\"training.csv\")\n",
        "td.head(10)\n",
        "\n",
        "ts = pd.read_csv(\"test.csv\")\n",
        "ts.head(2)"
      ],
      "execution_count": 29,
      "outputs": [
        {
          "output_type": "execute_result",
          "data": {
            "text/html": [
              "<div>\n",
              "<style scoped>\n",
              "    .dataframe tbody tr th:only-of-type {\n",
              "        vertical-align: middle;\n",
              "    }\n",
              "\n",
              "    .dataframe tbody tr th {\n",
              "        vertical-align: top;\n",
              "    }\n",
              "\n",
              "    .dataframe thead th {\n",
              "        text-align: right;\n",
              "    }\n",
              "</style>\n",
              "<table border=\"1\" class=\"dataframe\">\n",
              "  <thead>\n",
              "    <tr style=\"text-align: right;\">\n",
              "      <th></th>\n",
              "      <th>MDVP:Fo(Hz)</th>\n",
              "      <th>MDVP:Fhi(Hz)</th>\n",
              "      <th>MDVP:Flo(Hz)</th>\n",
              "      <th>MDVP:Jitter(%)</th>\n",
              "      <th>MDVP:Jitter(Abs)</th>\n",
              "      <th>MDVP:RAP</th>\n",
              "      <th>MDVP:PPQ</th>\n",
              "      <th>Jitter:DDP</th>\n",
              "      <th>MDVP:Shimmer</th>\n",
              "      <th>MDVP:Shimmer(dB)</th>\n",
              "      <th>...</th>\n",
              "      <th>Shimmer:DDA</th>\n",
              "      <th>NHR</th>\n",
              "      <th>HNR</th>\n",
              "      <th>status</th>\n",
              "      <th>RPDE</th>\n",
              "      <th>DFA</th>\n",
              "      <th>spread1</th>\n",
              "      <th>spread2</th>\n",
              "      <th>D2</th>\n",
              "      <th>PPE</th>\n",
              "    </tr>\n",
              "  </thead>\n",
              "  <tbody>\n",
              "    <tr>\n",
              "      <th>0</th>\n",
              "      <td>0.039139</td>\n",
              "      <td>0.036922</td>\n",
              "      <td>0.146903</td>\n",
              "      <td>0.115629</td>\n",
              "      <td>0.203187</td>\n",
              "      <td>0.096339</td>\n",
              "      <td>0.149347</td>\n",
              "      <td>0.096163</td>\n",
              "      <td>0.222563</td>\n",
              "      <td>0.182208</td>\n",
              "      <td>...</td>\n",
              "      <td>0.193591</td>\n",
              "      <td>0.030461</td>\n",
              "      <td>0.537428</td>\n",
              "      <td>1.0</td>\n",
              "      <td>0.700244</td>\n",
              "      <td>0.893130</td>\n",
              "      <td>0.576190</td>\n",
              "      <td>0.746923</td>\n",
              "      <td>0.449094</td>\n",
              "      <td>0.549216</td>\n",
              "    </tr>\n",
              "    <tr>\n",
              "      <th>1</th>\n",
              "      <td>0.381593</td>\n",
              "      <td>0.145393</td>\n",
              "      <td>0.071376</td>\n",
              "      <td>0.099111</td>\n",
              "      <td>0.083665</td>\n",
              "      <td>0.078998</td>\n",
              "      <td>0.108899</td>\n",
              "      <td>0.078985</td>\n",
              "      <td>0.376019</td>\n",
              "      <td>0.305466</td>\n",
              "      <td>...</td>\n",
              "      <td>0.307260</td>\n",
              "      <td>0.056785</td>\n",
              "      <td>0.439454</td>\n",
              "      <td>1.0</td>\n",
              "      <td>0.897878</td>\n",
              "      <td>0.496677</td>\n",
              "      <td>0.542029</td>\n",
              "      <td>0.540467</td>\n",
              "      <td>0.504589</td>\n",
              "      <td>0.521136</td>\n",
              "    </tr>\n",
              "  </tbody>\n",
              "</table>\n",
              "<p>2 rows × 23 columns</p>\n",
              "</div>"
            ],
            "text/plain": [
              "   MDVP:Fo(Hz)  MDVP:Fhi(Hz)  MDVP:Flo(Hz)  MDVP:Jitter(%)  MDVP:Jitter(Abs)  \\\n",
              "0     0.039139      0.036922      0.146903        0.115629          0.203187   \n",
              "1     0.381593      0.145393      0.071376        0.099111          0.083665   \n",
              "\n",
              "   MDVP:RAP  MDVP:PPQ  Jitter:DDP  MDVP:Shimmer  MDVP:Shimmer(dB)    ...     \\\n",
              "0  0.096339  0.149347    0.096163      0.222563          0.182208    ...      \n",
              "1  0.078998  0.108899    0.078985      0.376019          0.305466    ...      \n",
              "\n",
              "   Shimmer:DDA       NHR       HNR  status      RPDE       DFA   spread1  \\\n",
              "0     0.193591  0.030461  0.537428     1.0  0.700244  0.893130  0.576190   \n",
              "1     0.307260  0.056785  0.439454     1.0  0.897878  0.496677  0.542029   \n",
              "\n",
              "    spread2        D2       PPE  \n",
              "0  0.746923  0.449094  0.549216  \n",
              "1  0.540467  0.504589  0.521136  \n",
              "\n",
              "[2 rows x 23 columns]"
            ]
          },
          "metadata": {
            "tags": []
          },
          "execution_count": 29
        }
      ]
    },
    {
      "metadata": {
        "id": "5G4Goor7dmdT",
        "colab_type": "code",
        "outputId": "8c74c397-2652-4c12-e186-4c808a651ae6",
        "colab": {
          "base_uri": "https://localhost:8080/",
          "height": 119
        }
      },
      "cell_type": "code",
      "source": [
        "td.columns"
      ],
      "execution_count": 30,
      "outputs": [
        {
          "output_type": "execute_result",
          "data": {
            "text/plain": [
              "Index(['MDVP:Fo(Hz)', 'MDVP:Fhi(Hz)', 'MDVP:Flo(Hz)', 'MDVP:Jitter(%)',\n",
              "       'MDVP:Jitter(Abs)', 'MDVP:RAP', 'MDVP:PPQ', 'Jitter:DDP',\n",
              "       'MDVP:Shimmer', 'MDVP:Shimmer(dB)', 'Shimmer:APQ3', 'Shimmer:APQ5',\n",
              "       'MDVP:APQ', 'Shimmer:DDA', 'NHR', 'HNR', 'status', 'RPDE', 'DFA',\n",
              "       'spread1', 'spread2', 'D2', 'PPE'],\n",
              "      dtype='object')"
            ]
          },
          "metadata": {
            "tags": []
          },
          "execution_count": 30
        }
      ]
    },
    {
      "metadata": {
        "id": "i6VSlDbVcv1t",
        "colab_type": "text"
      },
      "cell_type": "markdown",
      "source": [
        "#Parkinson ditandai dengan statu 0  dan tidak parkinson 1 "
      ]
    },
    {
      "metadata": {
        "id": "TXXva1SBc9Zo",
        "colab_type": "code",
        "colab": {}
      },
      "cell_type": "code",
      "source": [
        "X = td.drop('status', axis=1).values\n",
        "y = td[['status']].values\n",
        "\n",
        "X_test = ts.drop('status', axis=1).values\n",
        "y_test  = ts[['status']].values"
      ],
      "execution_count": 0,
      "outputs": []
    },
    {
      "metadata": {
        "id": "20wiAG5ZeY98",
        "colab_type": "code",
        "outputId": "c4bc8543-35fd-4c56-823c-71692e128d11",
        "colab": {
          "base_uri": "https://localhost:8080/",
          "height": 34
        }
      },
      "cell_type": "code",
      "source": [
        "model = keras.Sequential()\n",
        "model.add(keras.layers.Dense(50, input_dim=22, activation='relu'))\n",
        "model.add(keras.layers.Dense(500, activation='relu'))\n",
        "model.add(keras.layers.Dense(250, activation='relu'))\n",
        "model.add(keras.layers.Dense(100, activation='relu'))\n",
        "model.add(keras.layers.Dense(50, activation='relu'))\n",
        "model.add(keras.layers.Dense(1, activation='linear'))\n",
        "model.compile(loss=\"mean_squared_error\", optimizer=\"adam\")\n",
        "\n",
        "model.fit(X,y,epochs=10000,shuffle=True,verbose=0)"
      ],
      "execution_count": 46,
      "outputs": [
        {
          "output_type": "execute_result",
          "data": {
            "text/plain": [
              "<tensorflow.python.keras.callbacks.History at 0x7f17653c1eb8>"
            ]
          },
          "metadata": {
            "tags": []
          },
          "execution_count": 46
        }
      ]
    },
    {
      "metadata": {
        "id": "o2ITjSubqHJB",
        "colab_type": "text"
      },
      "cell_type": "markdown",
      "source": [
        "# EValuasi"
      ]
    },
    {
      "metadata": {
        "id": "rE-a3QyAqJmf",
        "colab_type": "code",
        "colab": {}
      },
      "cell_type": "code",
      "source": [
        "Eval = model.evaluate(X_test, y_test, verbose=0)"
      ],
      "execution_count": 0,
      "outputs": []
    },
    {
      "metadata": {
        "id": "c0VHAJmKqYbE",
        "colab_type": "code",
        "colab": {
          "base_uri": "https://localhost:8080/",
          "height": 34
        },
        "outputId": "268004f4-2145-416a-93e5-94a24f393af1"
      },
      "cell_type": "code",
      "source": [
        "print(\" Berikut adalah tingkat error dari nilai MSE {}\".format(Eval))"
      ],
      "execution_count": 48,
      "outputs": [
        {
          "output_type": "stream",
          "text": [
            " Berikut adalah tingkat error dari nilai MSE 0.02898669485241557\n"
          ],
          "name": "stdout"
        }
      ]
    },
    {
      "metadata": {
        "id": "67PyzHO_q-3h",
        "colab_type": "code",
        "colab": {
          "base_uri": "https://localhost:8080/",
          "height": 34
        },
        "outputId": "a5467a74-5454-423d-e131-ad268e273cb4"
      },
      "cell_type": "code",
      "source": [
        "#Model Disimpem\n",
        "\n",
        "model.save(\"Parkinson_Model1_v2.h5\")\n",
        "print(\"Saved\")"
      ],
      "execution_count": 51,
      "outputs": [
        {
          "output_type": "stream",
          "text": [
            "Saved\n"
          ],
          "name": "stdout"
        }
      ]
    },
    {
      "metadata": {
        "id": "dQ6L2GiKrSzF",
        "colab_type": "code",
        "colab": {
          "base_uri": "https://localhost:8080/",
          "height": 51
        },
        "outputId": "086afac1-1f57-42d6-b73f-b2a52d7803ad"
      },
      "cell_type": "code",
      "source": [
        "ls"
      ],
      "execution_count": 52,
      "outputs": [
        {
          "output_type": "stream",
          "text": [
            "Model1.h5     parkinson.data          test.csv\n",
            "Model1_v2.h5  Parkinson_Model1_v2.h5  training.csv\n"
          ],
          "name": "stdout"
        }
      ]
    }
  ]
}